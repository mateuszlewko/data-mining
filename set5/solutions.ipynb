{
 "cells": [
  {
   "cell_type": "markdown",
   "metadata": {},
   "source": [
    "## KNN"
   ]
  },
  {
   "cell_type": "code",
   "execution_count": 7,
   "metadata": {
    "collapsed": true
   },
   "outputs": [],
   "source": [
    "% matplotlib inline\n",
    "\n",
    "import numpy as np\n",
    "import matplotlib.pyplot as plt\n",
    "import pandas as pd\n",
    "import matplotlib.cm as cm\n",
    "\n",
    "from sklearn import metrics\n",
    "from sklearn.cluster import KMeans, MiniBatchKMeans, Birch, DBSCAN\n",
    "from prettytable import PrettyTable\n",
    "from scipy.spatial.distance import cdist\n",
    "from sklearn import datasets"
   ]
  },
  {
   "cell_type": "code",
   "execution_count": 8,
   "metadata": {
    "collapsed": true
   },
   "outputs": [],
   "source": [
    "from scipy.stats import mode\n",
    "\n",
    "def dist(a, b):\n",
    "    return np.sqrt((np.square(a[:,np.newaxis] - b).sum(axis=2)))\n",
    "\n",
    "def knn(train_X, train_Y, test_X, test_Y, ks):\n",
    "    dists = dist(train_X, test_X)\n",
    "    \n",
    "    closest = np.argsort(dists, 0)\n",
    "    targets = train_Y[closest]\n",
    "    \n",
    "    errs = np.zeros((len(ks),))\n",
    "    \n",
    "    for ki, k in enumerate(ks):\n",
    "        predictions, _ = mode(targets[:k,:], axis=0)\n",
    "        predictions = predictions.ravel()\n",
    "\n",
    "        errs_cnt = 0\n",
    "        for ix, pred in enumerate(predictions):\n",
    "            if pred != test_Y[ix]:\n",
    "                errs_cnt += 1\n",
    "\n",
    "        errs[ki] += errs_cnt\n",
    "        \n",
    "    errs /= test_Y.shape    \n",
    "    return np.vstack((ks, errs))"
   ]
  },
  {
   "cell_type": "code",
   "execution_count": 9,
   "metadata": {},
   "outputs": [],
   "source": [
    "iris = datasets.load_iris()"
   ]
  },
  {
   "cell_type": "code",
   "execution_count": 47,
   "metadata": {},
   "outputs": [
    {
     "name": "stdout",
     "output_type": "stream",
     "text": [
      "[[  3.           5.           7.           9.          11.          13.\n",
      "   15.          17.          19.        ]\n",
      " [  0.04081633   0.06122449   0.06122449   0.04081633   0.04081633\n",
      "    0.04081633   0.06122449   0.06122449   0.06122449]]\n"
     ]
    },
    {
     "data": {
      "image/png": "[encoded data removed]",
      "text/plain": [
       "<matplotlib.figure.Figure at 0x7f3d5bf26dd0>"
      ]
     },
     "metadata": {},
     "output_type": "display_data"
    }
   ],
   "source": [
    "indxs = np.array(range(0, len(iris.data)))\n",
    "np.random.shuffle(indxs)\n",
    "\n",
    "ks = range(3,21, 2)\n",
    "errs = knn(iris.data[indxs[:100]], iris.target[indxs[:100]],\n",
    "           iris.data[indxs[100:150]], iris.target[indxs[100:150]], ks)\n",
    "  \n",
    "print(errs)\n",
    "plt.plot(errs[0, :], errs[1, :] * 100.0) \n",
    "plt.ylabel('error [%]')\n",
    "plt.xlabel('k neighbours')\n",
    "plt.show()"
   ]
  },
  {
   "cell_type": "code",
   "execution_count": 43,
   "metadata": {},
   "outputs": [
    {
     "name": "stdout",
     "output_type": "stream",
     "text": [
      "[[  0.   1.   6. ...,   1.   0.   0.]\n",
      " [  0.   0.  10. ...,   3.   0.   0.]\n",
      " [  0.   0.   8. ...,   0.   0.   0.]\n",
      " ..., \n",
      " [  0.   0.   3. ...,   9.   0.   0.]\n",
      " [  0.   0.   6. ...,  16.   5.   0.]\n",
      " [  0.   0.   2. ...,   0.   0.   0.]] [ 0.  0.  7. ...,  6.  6.  7.] 3823\n"
     ]
    }
   ],
   "source": [
    "import csv\n",
    "def load_digits():\n",
    "    data = np.genfromtxt('optdigits.tra', delimiter=',')\n",
    "    labels = data[:, -1]\n",
    "    X = data[:, :-1]\n",
    "    return X, labels\n",
    "\n",
    "digitsX, digitsY = load_digits()\n",
    "print digitsX, digitsY, len(digitsY)"
   ]
  },
  {
   "cell_type": "code",
   "execution_count": 49,
   "metadata": {},
   "outputs": [
    {
     "data": {
      "image/png": "[encoded data removed]",
      "text/plain": [
       "<matplotlib.figure.Figure at 0x7f3d5beecbd0>"
      ]
     },
     "metadata": {},
     "output_type": "display_data"
    }
   ],
   "source": [
    "indxs = np.array(range(0, len(digitsX)))\n",
    "np.random.shuffle(indxs)\n",
    "\n",
    "ks = range(3,21, 2)\n",
    "errs = knn(digitsX[indxs[:2000]], digitsY[indxs[:2000]],\n",
    "           digitsX[indxs[2000:]], digitsY[indxs[2000:]], ks)\n",
    "\n",
    "plt.plot(errs[0, :], errs[1, :] * 100.0) \n",
    "plt.ylabel('error [%]')\n",
    "plt.xlabel('k neighbours')\n",
    "plt.show()"
   ]
  },
  {
   "cell_type": "code",
   "execution_count": null,
   "metadata": {
    "collapsed": true
   },
   "outputs": [],
   "source": [
    "def cross_valid(X, Y, model):\n",
    "    n = len(Y)\n",
    "    step = n / 10.0\n",
    "    indxs = np.array(range(0, n))\n",
    "    np.random.shuffle(indxs)\n",
    "    \n",
    "    total_errs = 0\n",
    "\n",
    "    for i in xrange(0, 10):\n",
    "        train_idx = indxs[:i * step] + indxs[(i + 1) * step:]\n",
    "        test_idx = indxs[i * step : (i + 1) * step]\n",
    "        \n",
    "        errs = model(X[train_idx], Y[train_idx],\n",
    "                     X[test_idx] , Y[test_idx], ks)\n",
    "        \n",
    "        total_errs += errs\n",
    "    \n",
    "    return total_errs\n",
    "    \n",
    "plt.plot(ks, np.mean(tot_errs, axis=0) * 100) \n",
    "plt.ylabel('Avg classification error [%]')\n",
    "plt.xlabel('k neighbours in KNN')\n",
    "plt.show()"
   ]
  }
 ],
 "metadata": {
  "kernelspec": {
   "display_name": "Python 2",
   "language": "python",
   "name": "python2"
  },
  "language_info": {
   "codemirror_mode": {
    "name": "ipython",
    "version": 2
   },
   "file_extension": ".py",
   "mimetype": "text/x-python",
   "name": "python",
   "nbconvert_exporter": "python",
   "pygments_lexer": "ipython2",
   "version": "2.7.14"
  }
 },
 "nbformat": 4,
 "nbformat_minor": 2
}
